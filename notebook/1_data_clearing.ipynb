{
 "cells": [
  {
   "cell_type": "code",
   "id": "initial_id",
   "metadata": {
    "collapsed": true,
    "ExecuteTime": {
     "end_time": "2025-05-12T06:13:06.406918Z",
     "start_time": "2025-05-12T06:13:05.046622Z"
    }
   },
   "source": [
    "import pandas as pd\n",
    "import numpy as np"
   ],
   "outputs": [],
   "execution_count": 1
  },
  {
   "metadata": {
    "ExecuteTime": {
     "end_time": "2025-05-12T06:13:06.445852Z",
     "start_time": "2025-05-12T06:13:06.419547Z"
    }
   },
   "cell_type": "code",
   "source": [
    "df = pd.read_csv(\"../data/raw_data/cars.csv\")\n",
    "print(df.info())"
   ],
   "id": "60a0ed743dde263f",
   "outputs": [
    {
     "name": "stdout",
     "output_type": "stream",
     "text": [
      "<class 'pandas.core.frame.DataFrame'>\n",
      "RangeIndex: 4058 entries, 0 to 4057\n",
      "Data columns (total 16 columns):\n",
      " #   Column            Non-Null Count  Dtype \n",
      "---  ------            --------------  ----- \n",
      " 0   Model Auta        4058 non-null   object\n",
      " 1   Verze modelu      4021 non-null   object\n",
      " 2   Cena              4058 non-null   object\n",
      " 3   Datum registrace  4005 non-null   object\n",
      " 4   Najezd            4058 non-null   object\n",
      " 5   Stk               4058 non-null   object\n",
      " 6   Stav              4058 non-null   object\n",
      " 7   Vykon             4058 non-null   object\n",
      " 8   Objem motoru      4058 non-null   object\n",
      " 9   Typ paliva        4058 non-null   object\n",
      " 10  Typ prevodovky    4058 non-null   object\n",
      " 11  Typ karoserie     4058 non-null   object\n",
      " 12  Pocet dveri       4058 non-null   object\n",
      " 13  Pocet mist        4058 non-null   object\n",
      " 14  Barva exterieru   4058 non-null   object\n",
      " 15  Adresa prodejce   4030 non-null   object\n",
      "dtypes: object(16)\n",
      "memory usage: 507.4+ KB\n",
      "None\n"
     ]
    }
   ],
   "execution_count": 2
  },
  {
   "metadata": {
    "ExecuteTime": {
     "end_time": "2025-05-12T06:13:06.546446Z",
     "start_time": "2025-05-12T06:13:06.536674Z"
    }
   },
   "cell_type": "code",
   "source": [
    "#Cisteni atributu \"Model Auta\" a \"Verze modelu\"\n",
    "df[\"Model Auta\"] = df[\"Model Auta\"].str.replace(\"BMW \", \"\") #Odstraneni \"BMW\" z retezce\n",
    "\n",
    "slouceni_modelu = { #promenna slouží ke prejmenovani nekterych kategorii\n",
    "    \"M2\": \"Řada 2\",\n",
    "    \"M3\": \"Řada 3\",\n",
    "    \"M4\": \"Řada 4\",\n",
    "    \"M5\": \"Řada 5\",\n",
    "    \"M6\": \"Řada 6\",\n",
    "    \"M8\": \"Řada 8\",\n",
    "    \"i4\": \"Řada 4\",\n",
    "    \"i5\": \"Řada 5\",\n",
    "    \"i7\": \"Řada 7\",\n",
    "    \"iX1\": \"X1\",\n",
    "    \"iX2\": \"X2\",\n",
    "    \"iX3\": \"X3\"\n",
    "}\n",
    "\n",
    "df[\"Model Auta\"] = df[\"Model Auta\"].replace(slouceni_modelu) #proces prejmenovani jeste v datovem typu string\n",
    "\n",
    "df[\"Model Auta\"] = df[\"Model Auta\"].astype(\"category\") #prevod na kategorialni typ\n",
    "\n",
    "df = df.drop(columns=[\"Verze modelu\"]) #Odstraneni sloupce \"Verze modelu\""
   ],
   "id": "4ab50408c4a9590f",
   "outputs": [],
   "execution_count": 3
  },
  {
   "metadata": {
    "ExecuteTime": {
     "end_time": "2025-05-12T06:13:06.562088Z",
     "start_time": "2025-05-12T06:13:06.559810Z"
    }
   },
   "cell_type": "code",
   "source": "print(df[\"Model Auta\"].cat.categories)",
   "id": "b506bd6d00bca7eb",
   "outputs": [
    {
     "name": "stdout",
     "output_type": "stream",
     "text": [
      "Index(['Ostatní', 'X1', 'X2', 'X3', 'X4', 'X5', 'X6', 'X7', 'XM', 'Z3', 'Z4',\n",
      "       'i3', 'i8', 'iX', 'Řada 1', 'Řada 2', 'Řada 3', 'Řada 4', 'Řada 5',\n",
      "       'Řada 6', 'Řada 7', 'Řada 8'],\n",
      "      dtype='object')\n"
     ]
    }
   ],
   "execution_count": 4
  },
  {
   "metadata": {
    "ExecuteTime": {
     "end_time": "2025-05-12T06:13:06.596505Z",
     "start_time": "2025-05-12T06:13:06.583582Z"
    }
   },
   "cell_type": "code",
   "source": [
    "#Cisteni sloupce Cena\n",
    "df[\"Cena\"] = df[\"Cena\"].str.replace(\" \", \"\") #Odstranime prazdne hodnoty\n",
    "df[\"Mena\"] = df[\"Cena\"].str.extract(r\"(Kč|EUR)\", expand=False) #Vytvorime atribut Mena\n",
    "df[\"Cena_cislo\"] = df[\"Cena\"].str.extract(r\"(\\d+)\", expand=False) #Cena bez meny\n",
    "df[\"Cena_cislo\"] = pd.to_numeric(df[\"Cena_cislo\"], errors=\"coerce\").astype(\"Int64\")\n",
    "df.loc[df[\"Mena\"] == \"EUR\", \"Cena_v_Kc\"] = df[\"Cena_cislo\"] * 25 #Vyvorime atribut Cena v Kc a prevedeme ceny v EUR do CZK\n",
    "df.loc[df[\"Mena\"] == \"Kč\", \"Cena_v_Kc\"] = df[\"Cena_cislo\"] #Pridame ceny v korunach\n",
    "df[\"Cena\"] = df[(\"Cena_v_Kc\")]\n",
    "\n",
    "#Odstraneni zbytecnych sloupcu\n",
    "df = df.drop(columns=[\"Cena_cislo\"])\n",
    "df = df.drop(columns=[\"Cena_v_Kc\"])\n",
    "df = df.drop(columns=[\"Mena\"])\n",
    "\n",
    "#Vyporadame se s prazdnymi hodnotami\n",
    "cena_model_avg = df.groupby(\"Model Auta\", observed=True)[\"Cena\"].transform(\"mean\").astype(\"Int64\")\n",
    "df[\"Cena\"] = df[\"Cena\"].fillna(cena_model_avg)"
   ],
   "id": "f1faa9ee786e69ae",
   "outputs": [],
   "execution_count": 5
  },
  {
   "metadata": {
    "ExecuteTime": {
     "end_time": "2025-05-12T06:13:06.614750Z",
     "start_time": "2025-05-12T06:13:06.600481Z"
    }
   },
   "cell_type": "code",
   "source": [
    "#Stk, pocet mist, pocet dveri, typ karoserie\n",
    "print(df[\"Stk\"].describe())\n",
    "\n",
    "#Odstraneni vsech 3 atributu\n",
    "df = df.drop(columns=[\"Stk\"])\n",
    "df = df.drop(columns=[\"Pocet dveri\"])\n",
    "df = df.drop(columns=[\"Pocet mist\"])\n",
    "\n",
    "#Cistení atributu \"typ karoserie\"\n",
    "df[\"Typ karoserie\"] = df[\"Typ karoserie\"].astype(\"category\")\n",
    "df.loc[df[\"Typ karoserie\"] == \"VAN\", \"Typ karoserie\"] = \"MPV\"\n",
    "df.loc[df[\"Model Auta\"].isin([\"X1\", \"X2\", \"X3\", \"X4\", \"X5\", \"X6\", \"X7\", \"iX\"]), \"Typ karoserie\"] = \"SUV\"\n",
    "df.loc[df[\"Typ karoserie\"] == \"limuzína\", \"Typ karoserie\"] = \"sedan\"\n",
    "df.loc[df[\"Model Auta\"].isin([\"Řada 1\", \"i3\"]), \"Typ karoserie\"] = \"hatchback\"\n",
    "df.loc[df[\"Model Auta\"].isin([\"Řada 3\", \"Řada 5\"]) &\n",
    "       (df[\"Typ karoserie\"].isin([\"hatchback\", \"SUV\"])), \"Typ karoserie\"] = \"kombi\"\n",
    "df.loc[(df[\"Model Auta\"] == \"Řada 2\") &\n",
    "       (df[\"Typ karoserie\"].isin([\"hatchback\", \"kombi\"])), \"Typ karoserie\"] = \"MPV\"\n",
    "df.loc[(df[\"Model Auta\"].isin([\"Řada 2\", \"Řada 8\", \"Řada 7\"])) &\n",
    "       (df[\"Typ karoserie\"].isin([\"liftback\", \"SUV\"])), \"Typ karoserie\"] = \"sedan\"\n",
    "df.loc[(df[\"Model Auta\"].isin([\"Řada 4\", \"Řada 6\"])) &\n",
    "       (df[\"Typ karoserie\"].isin([ \"hatchback\", \"kombi\"])), \"Typ karoserie\"] = \"liftback\"\n",
    "\n",
    "#Nahrazeni kategorie \"neuvedeno\" modem podle modelu auta\n",
    "df.loc[df[\"Typ karoserie\"] == \"neuvedeno\", \"Typ karoserie\"] = (\n",
    "    df.groupby(\"Model Auta\", observed=True)[\"Typ karoserie\"]\n",
    "      .transform(lambda x: x.mode().iloc[0] if not x.mode().empty else pd.NA)\n",
    ")"
   ],
   "id": "7b49c16e15d8050d",
   "outputs": [
    {
     "name": "stdout",
     "output_type": "stream",
     "text": [
      "count          4058\n",
      "unique           79\n",
      "top       neuvedeno\n",
      "freq           1982\n",
      "Name: Stk, dtype: object\n"
     ]
    }
   ],
   "execution_count": 6
  },
  {
   "metadata": {
    "ExecuteTime": {
     "end_time": "2025-05-12T06:13:06.627606Z",
     "start_time": "2025-05-12T06:13:06.624723Z"
    }
   },
   "cell_type": "code",
   "source": [
    "#Zobrazeni kategorii atributu \"Typ karoserie\"\n",
    "print(df[\"Typ karoserie\"].cat.categories)"
   ],
   "id": "db258ff60aa5fcf5",
   "outputs": [
    {
     "name": "stdout",
     "output_type": "stream",
     "text": [
      "Index(['MPV', 'SUV', 'VAN', 'hatchback', 'kabriolet', 'kombi', 'kupé',\n",
      "       'liftback', 'limuzína', 'neuvedeno', 'sedan'],\n",
      "      dtype='object')\n"
     ]
    }
   ],
   "execution_count": 7
  },
  {
   "metadata": {
    "ExecuteTime": {
     "end_time": "2025-05-12T06:13:06.683850Z",
     "start_time": "2025-05-12T06:13:06.655500Z"
    }
   },
   "cell_type": "code",
   "source": [
    "#Cisteni atributu \"Stav\", \"Najezd\" a \"Datum registrace\"\n",
    "df[\"Stav\"] = df[\"Stav\"].astype(\"category\")\n",
    "print(df[\"Stav\"].cat.categories)\n",
    "\n",
    "#Cisteni datumu registrace\n",
    "df = df.rename(columns={\"Datum registrace\": \"Rok\"})\n",
    "df[\"Rok\"] = df[\"Rok\"].str.extract(r\"(\\d{4})\", expand=False) #Ponechame pouze rok\n",
    "df[\"Rok\"] = pd.to_datetime(df[\"Rok\"], format=\"%Y\")\n",
    "df[\"Rok\"] = df[\"Rok\"].dt.strftime(\"%Y\")\n",
    "#Doplneni chybejicich hodnot\n",
    "df.loc[(df[\"Stav\"] == \"Nové vozidlo\") & (df[\"Rok\"].isna()), \"Rok\"] = 2025\n",
    "df.loc[(df[\"Model Auta\"] == \"i3\") & (df[\"Rok\"].isna()), \"Rok\"] = 2018\n",
    "df.loc[(df[\"Model Auta\"] == \"X4\") & (df[\"Rok\"].isna()), \"Rok\"] = 2024\n",
    "\n",
    "#Cisteni najezdu\n",
    "df[\"Najezd\"] = df[\"Najezd\"].str.extract(r\"(\\d*(?=km\\b))\", expand=False)\n",
    "df[\"Najezd\"] = pd.to_numeric(df[\"Najezd\"], errors=\"coerce\").astype(\"Int64\")\n",
    "#Doplnění chybějících hodnot\n",
    "df.loc[(df[\"Stav\"] == \"Nové vozidlo\") & (df[\"Najezd\"].isna()), \"Najezd\"] = 0\n",
    "najezd_model_avg = df.groupby(\"Model Auta\", observed=True)[\"Najezd\"].transform(\"mean\").astype(\"Int64\")\n",
    "df[\"Najezd\"] = df[\"Najezd\"].fillna(najezd_model_avg) #Doplneni prazdnych hodnot prumerem pro konkretni model"
   ],
   "id": "b9d6878060e9aa63",
   "outputs": [
    {
     "name": "stdout",
     "output_type": "stream",
     "text": [
      "Index(['Dobrý', 'Nové vozidlo', 'Perfektní', 'Předváděcí vozidlo',\n",
      "       'Uspokojivý', 'Velmi dobrý', 'Způsobilý k provozu', 'neuvedeno'],\n",
      "      dtype='object')\n"
     ]
    }
   ],
   "execution_count": 8
  },
  {
   "metadata": {
    "ExecuteTime": {
     "end_time": "2025-05-12T06:13:06.785566Z",
     "start_time": "2025-05-12T06:13:06.696307Z"
    }
   },
   "cell_type": "code",
   "source": [
    "# Nejdrive upravime format sloupcu \"Typ paliva\", \"Objem motoru\", \"Typ prevodovky\" a \"Vykon\"\n",
    "df[\"Typ paliva\"] = df[\"Typ paliva\"].astype(\"category\")\n",
    "\n",
    "df = df.rename(columns={\"Objem motoru\": \"Objem motoru\"})\n",
    "df[\"Objem motoru\"] = df[\"Objem motoru\"].str.extract(r\"(\\d*\\s?\\d{1,3}(?=\\s?cm³\\b))\", expand=False).str.replace(\" \", \"\")\n",
    "df[\"Objem motoru\"] = pd.to_numeric(df[\"Objem motoru\"], errors=\"coerce\").astype(\"Int64\")\n",
    "\n",
    "df[\"Typ prevodovky\"] = df[\"Typ prevodovky\"].astype(\"category\")\n",
    "print(df[\"Typ prevodovky\"].describe())\n",
    "\n",
    "df[\"Vykon\"] = df[\"Vykon\"].str.extract(r\"(\\d{2,3})(?=\\s?PS\\b)\", expand=False) #Ponechame vykon v konich\n",
    "df[\"Vykon\"] = pd.to_numeric(df[\"Vykon\"], errors=\"coerce\").astype(\"Int64\")\n",
    "\n",
    "#Cisteni sloupce \"Objem motoru\"\n",
    "df.loc[(df[\"Typ paliva\"] == \"elektro\") & (~df[\"Objem motoru\"].isin([650, 647])), \"Objem motoru\"] = 0\n",
    "df.loc[df[\"Objem motoru\"].isna() | df[\"Objem motoru\"].isin([1,2, 143, 184]), \"Objem motoru\"] = (\n",
    "    df.groupby(\"Model Auta\", observed=True)[\"Objem motoru\"]\n",
    "      .transform(lambda x: x.mode().iloc[0] if not x.mode().empty else pd.NA)\n",
    ")\n",
    "\n",
    "df.loc[(df[\"Objem motoru\"] == 0) & (df[\"Model Auta\"] == \"Ostatní\") & (df[\"Vykon\"].notna()), \"Model Auta\"] = (\n",
    "    df.groupby(\"Vykon\", observed=True)[\"Model Auta\"]\n",
    "      .transform(lambda x: x.mode().iloc[0] if not x.mode().empty else pd.NA)\n",
    ")\n",
    "\n",
    "#Cisteni sloupce \"Typ paliva\"\n",
    "df.loc[df[\"Typ paliva\"].isin([\"hybridní - nafta\", \"neuvedeno\"]), \"Typ paliva\"] = (\n",
    "    df.groupby([\"Model Auta\", \"Objem motoru\"], observed=True)[\"Typ paliva\"]\n",
    "      .transform(lambda x: x.mode().iloc[0] if not x.mode().empty else pd.NA)\n",
    ")\n",
    "df.loc[((df[\"Model Auta\"] == \"i8\") & (df[\"Typ paliva\"] == \"benzin\")), \"Typ paliva\"] = \"hybridní - benzin\"\n",
    "\n",
    "#Cisteni atributu \"Typ prevodovky\"\n",
    "df.loc[(df[\"Typ paliva\"].isin([\"elektro\", \"hybridní - benzin\"])), \"Typ prevodovky\"] = \"aut. převodovka\"\n",
    "df.loc[df[\"Typ prevodovky\"] == \"neuvedeno\", \"Typ prevodovky\"] = (\n",
    "    df.groupby([\"Model Auta\", \"Rok\"], observed=True)[\"Typ prevodovky\"]\n",
    "      .transform(lambda x: x.mode().iloc[0] if not x.mode().empty else pd.NA)\n",
    ")\n",
    "df.loc[df[\"Typ prevodovky\"] == \"neuvedeno\", \"Typ prevodovky\"] = (\n",
    "    df.groupby([\"Model Auta\", \"Typ paliva\"], observed=True)[\"Typ prevodovky\"]\n",
    "      .transform(lambda x: x.mode().iloc[0] if not x.mode().empty else pd.NA)\n",
    ")\n",
    "\n",
    "#Cisteni atributu \"Vykon\"\n",
    "df.loc[df[\"Vykon\"].isna(), \"Vykon\"] = (\n",
    "    df.groupby([\"Model Auta\", \"Typ paliva\"], observed=True)[\"Vykon\"]\n",
    "      .transform(lambda x: x.mode().iloc[0] if not x.mode().empty else pd.NA)\n",
    ")"
   ],
   "id": "fc3bf8657132b87e",
   "outputs": [
    {
     "name": "stdout",
     "output_type": "stream",
     "text": [
      "count                4058\n",
      "unique                  4\n",
      "top       aut. převodovka\n",
      "freq                 3327\n",
      "Name: Typ prevodovky, dtype: object\n"
     ]
    }
   ],
   "execution_count": 9
  },
  {
   "metadata": {
    "ExecuteTime": {
     "end_time": "2025-05-12T06:13:06.797448Z",
     "start_time": "2025-05-12T06:13:06.790995Z"
    }
   },
   "cell_type": "code",
   "source": [
    "#Vytvorime sloupec \"Metaliza\"\n",
    "df[\"Barva exterieru\"] =df[\"Barva exterieru\"].replace(\"neuvedeno\", np.nan) #Ponechame chybejici hodnoty\n",
    "df[\"Metaliza\"] = df[\"Barva exterieru\"].str.contains(r\"\\b(?:\\w+\\s)*metalíza\\b\", regex = True)\n",
    "\n",
    "#Odstraneni \"metalizy\" ze sloupce \"Barva exterieru\" a kategorizace\n",
    "df[\"Barva exterieru\"] = df[\"Barva exterieru\"].str.replace(\" metalíza\", \"\")\n",
    "#Odstraneni retezcu oznacujicich svetle a tmave barvy\n",
    "df[\"Barva exterieru\"] = df[\"Barva exterieru\"].str.replace(\"světle \", \"\")\n",
    "df[\"Barva exterieru\"] = df[\"Barva exterieru\"].str.replace(\"tmavě \", \"\")\n",
    "df[\"Barva exterieru\"] = df[\"Barva exterieru\"].astype(\"category\")"
   ],
   "id": "39d534689ca31610",
   "outputs": [],
   "execution_count": 10
  },
  {
   "metadata": {
    "ExecuteTime": {
     "end_time": "2025-05-12T06:13:06.839607Z",
     "start_time": "2025-05-12T06:13:06.809488Z"
    }
   },
   "cell_type": "code",
   "source": [
    "#Extrahovani PSC do noveho sloupce\n",
    "df[\"PSC\"] = df[\"Adresa prodejce\"].str.extract(r\"(\\d{5})\", expand=False)\n",
    "df[\"PSC\"] = pd.to_numeric(df[\"PSC\"], errors=\"coerce\").astype(\"Int64\")\n",
    "df.loc[df[\"Adresa prodejce\"].notna() & df[\"PSC\"].isna() &\n",
    "       df['Adresa prodejce'].str.contains('Praha', na=False), \"PSC\"] = 16000\n",
    "\n",
    "#Nový DataFrame pro spojeni pridani slopce kraje podle PSC\n",
    "df_kraje = pd.read_csv(\"../data/raw_data/zv_cobce_psc.csv\", encoding='windows-1250', sep=';', usecols=[\"psc\", \"nazevkraj\"])\n",
    "\n",
    "df_kraje = df_kraje.rename(columns={\"psc\": \"PSC\"})\n",
    "df_kraje = df_kraje.drop_duplicates(subset=\"PSC\")\n",
    "df = pd.merge(df, df_kraje, on=\"PSC\", how=\"left\")\n",
    "df = df.rename(columns={\"nazevkraj\": \"Kraj\"})\n",
    "\n",
    "#Nahrazeni prazdnych hodnot\n",
    "df.loc[(df[\"PSC\"] > 80000) | (df[\"PSC\"] < 10000), \"Kraj\"] = \"Slovensko\"\n",
    "df.loc[(df['PSC'] == 10205), \"Kraj\"] = \"Hlavní město Praha\"\n",
    "df.loc[(df['PSC'] == 77200), \"Kraj\"] = \"Olomoucký\"\n",
    "df.loc[(df['PSC'] == 46675), \"Kraj\"] = \"Jihočeský\"\n",
    "\n",
    "#Prevod kraje na kategorialni datovy typ\n",
    "df[\"Kraj\"] = df[\"Kraj\"].astype(\"category\")\n",
    "\n",
    "#Odstraneni pomocnych sloupcu\n",
    "df = df.drop(columns=[\"Adresa prodejce\"])\n",
    "df = df.drop(columns=[\"PSC\"])\n",
    "\n",
    "#Vypocet prumerne ceny vozidel ze Slovenska a z Česka\n",
    "print(df[df[\"Kraj\"] == \"Slovensko\"][\"Cena\"].mean()) #Slovensko\n",
    "print(df[~df[\"Kraj\"].isin([\"Slovensko\"])][\"Cena\"].mean()) #Česko\n",
    "df = df[~df[\"Kraj\"].isin([\"Slovensko\"])] #Odstaneni zaznamu ze Slovenska"
   ],
   "id": "c00b385f5091ab1d",
   "outputs": [
    {
     "name": "stdout",
     "output_type": "stream",
     "text": [
      "1633644.0404040404\n",
      "1218121.180601162\n"
     ]
    }
   ],
   "execution_count": 11
  },
  {
   "metadata": {
    "ExecuteTime": {
     "end_time": "2025-05-12T06:13:06.851208Z",
     "start_time": "2025-05-12T06:13:06.843098Z"
    }
   },
   "cell_type": "code",
   "source": [
    "df = df[~df[\"Model Auta\"].isin([\"Ostatní\"])]\n",
    "df = df[~df[\"Typ prevodovky\"].isin([\"poloaut. převodovka\"])]\n",
    "df.columns = df.columns.str.replace(' ', '_')\n",
    "df.columns = df.columns.str.lower()\n",
    "\n",
    "print(df.info())"
   ],
   "id": "646519c356d73f17",
   "outputs": [
    {
     "name": "stdout",
     "output_type": "stream",
     "text": [
      "<class 'pandas.core.frame.DataFrame'>\n",
      "Index: 3954 entries, 0 to 4057\n",
      "Data columns (total 13 columns):\n",
      " #   Column           Non-Null Count  Dtype   \n",
      "---  ------           --------------  -----   \n",
      " 0   model_auta       3954 non-null   category\n",
      " 1   cena             3954 non-null   Int64   \n",
      " 2   rok              3954 non-null   object  \n",
      " 3   najezd           3954 non-null   Int64   \n",
      " 4   stav             3954 non-null   category\n",
      " 5   vykon            3954 non-null   Int64   \n",
      " 6   objem_motoru     3954 non-null   Int64   \n",
      " 7   typ_paliva       3954 non-null   category\n",
      " 8   typ_prevodovky   3954 non-null   category\n",
      " 9   typ_karoserie    3954 non-null   category\n",
      " 10  barva_exterieru  3890 non-null   category\n",
      " 11  metaliza         3890 non-null   object  \n",
      " 12  kraj             3924 non-null   category\n",
      "dtypes: Int64(4), category(7), object(2)\n",
      "memory usage: 261.9+ KB\n",
      "None\n"
     ]
    }
   ],
   "execution_count": 12
  },
  {
   "metadata": {
    "ExecuteTime": {
     "end_time": "2025-05-12T06:13:06.871377Z",
     "start_time": "2025-05-12T06:13:06.858263Z"
    }
   },
   "cell_type": "code",
   "source": "df.to_csv(\"../data/processed_data/1_data_clearing/1_clearing_cars.csv\", index=False, encoding=\"utf-8\")",
   "id": "6616255648456c47",
   "outputs": [],
   "execution_count": 13
  }
 ],
 "metadata": {
  "kernelspec": {
   "display_name": "Python 3",
   "language": "python",
   "name": "python3"
  },
  "language_info": {
   "codemirror_mode": {
    "name": "ipython",
    "version": 2
   },
   "file_extension": ".py",
   "mimetype": "text/x-python",
   "name": "python",
   "nbconvert_exporter": "python",
   "pygments_lexer": "ipython2",
   "version": "2.7.6"
  }
 },
 "nbformat": 4,
 "nbformat_minor": 5
}
